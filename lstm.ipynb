{
 "cells": [
  {
   "cell_type": "code",
   "execution_count": 3,
   "metadata": {},
   "outputs": [],
   "source": [
    "import numpy as np\n",
    "import pandas as pd\n",
    "from sklearn.preprocessing import MinMaxScaler\n",
    "# from sklearn.model_selection import train_test_split\n",
    "# from tensorflow.python.keras.models import Sequential\n",
    "# from tensorflow.python.keras.layers import LSTM, Dense"
   ]
  },
  {
   "cell_type": "code",
   "execution_count": 10,
   "metadata": {},
   "outputs": [
    {
     "name": "stdout",
     "output_type": "stream",
     "text": [
      "(1212, 17) (1212,)\n",
      "[[0.4375     0.61538462 0.         ... 0.         0.0625     0.50526316]\n",
      " [0.55       0.44615385 0.0778501  ... 0.16666667 0.015625   0.53684211]\n",
      " [0.65       0.53846154 0.01813886 ... 0.06666667 0.         0.6       ]\n",
      " ...\n",
      " [0.5        0.75384615 0.06326391 ... 0.3        0.         0.63157895]\n",
      " [0.16666667 0.69230769 0.00992052 ... 0.13333333 0.         0.6       ]\n",
      " [0.3        0.26153846 0.07548952 ... 0.1        0.         0.63027294]]\n",
      "[[0.4375     0.61538462 0.         ... 0.         0.0625     0.50526316]\n",
      " [0.55       0.44615385 0.0778501  ... 0.16666667 0.015625   0.53684211]\n",
      " [0.65       0.53846154 0.01813886 ... 0.06666667 0.         0.6       ]\n",
      " ...\n",
      " [0.5        0.75384615 0.06326391 ... 0.3        0.         0.63157895]\n",
      " [0.16666667 0.69230769 0.00992052 ... 0.13333333 0.         0.6       ]\n",
      " [0.3        0.26153846 0.07548952 ... 0.1        0.         0.63027294]]\n"
     ]
    }
   ],
   "source": [
    "# Load and prepare your data\n",
    "data = pd.read_csv('out.csv')\n",
    "data['date'] = pd.to_datetime(data['date'])\n",
    "data.set_index('date', inplace=True)\n",
    "data.drop(columns=['Unnamed: 0', 'id', 'screen'], inplace=True)\n",
    "data['mood_shifted'] = data['mood'].shift(-1)\n",
    "print(data.shape)\n",
    "scaler = MinMaxScaler()\n",
    "data_scaled = scaler.fit_transform(data.fillna(data.mean()))\n",
    "# Function to create sequences\n",
    "def create_sequences(data, n_steps):\n",
    "  data_X = np.delete(data, 3, axis=1)\n",
    "  X, y = [], []\n",
    "  for i in range(len(data)):\n",
    "      end_ix = i + n_steps\n",
    "      if end_ix > len(data):\n",
    "          break\n",
    "      seq_x, seq_y = data[i:end_ix], data[end_ix-1, 3]\n",
    "      X.append(seq_x)\n",
    "      y.append(seq_y)\n",
    "  return np.array(X), np.array(y)\n",
    "\n",
    "\n",
    "X,y = create_sequences(data_scaled, 7)\n"
   ]
  },
  {
   "cell_type": "code",
   "execution_count": null,
   "metadata": {},
   "outputs": [],
   "source": [
    "# Function to create sequences\n",
    "def create_sequences(data_scaled, data_y n_steps):\n",
    "    X, y = [], []\n",
    "    for i in range(len(data)):\n",
    "        end_ix = i + n_steps\n",
    "        if end_ix > len(data) - 1:\n",
    "            break\n",
    "        seq_x, seq_y = data[i:end_ix], data[end_ix, 2]  # Assuming 'mood' is at index 2\n",
    "        X.append(seq_x)\n",
    "        y.append(seq_y)\n",
    "    return np.array(X), np.array(y)"
   ]
  },
  {
   "cell_type": "code",
   "execution_count": null,
   "metadata": {},
   "outputs": [],
   "source": [
    "\n",
    "# Define number of past days and create sequences\n",
    "n_steps = 7\n",
    "X, y = create_sequences(data_scaled, n_steps)\n",
    "print(X,y)\n",
    "X_train, X_test, y_train, y_test = train_test_split(X, y, test_size=0.2, random_state=0)\n",
    "print(X_train, y_train)\n",
    "\n",
    "# Build the LSTM model\n",
    "model = Sequential([\n",
    "    LSTM(50, activation='relu', input_shape=(n_steps, 18)),\n",
    "    Dense(1)\n",
    "])\n",
    "\n",
    "# Compile the model\n",
    "model.compile(optimizer='adam', loss='mse')\n",
    "\n",
    "# Train the model\n",
    "model.fit(X_train, y_train, epochs=50, verbose=1)\n",
    "\n",
    "# Evaluate the model\n",
    "loss = model.evaluate(X_test, y_test)\n",
    "print(f'Test Loss: {loss}')\n"
   ]
  },
  {
   "cell_type": "code",
   "execution_count": null,
   "metadata": {},
   "outputs": [],
   "source": [
    "import matplotlib.pyplot as plt\n",
    "\n",
    "# Assuming `history` is the output from the `model.fit()` call\n",
    "history = model.fit(X_train, y_train, epochs=50, validation_split=0.2, verbose=1)\n",
    "\n",
    "# Plot training & validation loss values\n",
    "plt.figure(figsize=(10, 5))\n",
    "plt.plot(history.history['loss'], label='Train')\n",
    "plt.plot(history.history['val_loss'], label='Validation')\n",
    "plt.title('Model Loss')\n",
    "plt.ylabel('Loss')\n",
    "plt.xlabel('Epoch')\n",
    "plt.legend(loc='upper right')\n",
    "plt.show()"
   ]
  },
  {
   "cell_type": "code",
   "execution_count": null,
   "metadata": {},
   "outputs": [],
   "source": [
    "# Make predictions\n",
    "predictions = model.predict(X_test)\n",
    "\n",
    "# Plotting the actual vs predicted values\n",
    "plt.figure(figsize=(10, 5))\n",
    "plt.plot(y_test, label='Actual')\n",
    "plt.plot(predictions, label='Predicted', alpha=0.7)\n",
    "plt.title('Actual vs Predicted Mood')\n",
    "plt.ylabel('Mood')\n",
    "plt.xlabel('Test Sample')\n",
    "plt.legend()\n",
    "plt.show()"
   ]
  }
 ],
 "metadata": {
  "kernelspec": {
   "display_name": "venv",
   "language": "python",
   "name": "python3"
  },
  "language_info": {
   "codemirror_mode": {
    "name": "ipython",
    "version": 3
   },
   "file_extension": ".py",
   "mimetype": "text/x-python",
   "name": "python",
   "nbconvert_exporter": "python",
   "pygments_lexer": "ipython3",
   "version": "3.9.7"
  },
  "orig_nbformat": 4,
  "vscode": {
   "interpreter": {
    "hash": "1fc5637e3ed7126acd7dd2028bdbbd129c1d81b498282e5e8aaa91e63254f603"
   }
  }
 },
 "nbformat": 4,
 "nbformat_minor": 2
}
