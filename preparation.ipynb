{
 "cells": [
  {
   "cell_type": "code",
   "execution_count": null,
   "metadata": {},
   "outputs": [],
   "source": [
    "import pandas as pd\n",
    "\n",
    "df = pd.read_csv(\"dataset_mood_smartphone.csv\")\n",
    "df['time'] = pd.to_datetime(df['time'])\n",
    "df.rename(columns={'Unnamed: 0': 'index'}, inplace=True)\n",
    "\n",
    "df\n"
   ]
  },
  {
   "attachments": {},
   "cell_type": "markdown",
   "metadata": {},
   "source": [
    "Split the raw data into score and machine features"
   ]
  },
  {
   "cell_type": "code",
   "execution_count": null,
   "metadata": {},
   "outputs": [],
   "source": [
    "score_variables = [\"mood\", \"circumplex.arousal\", \"circumplex.valence\", \"activity\"]\n",
    "\n",
    "# Creating a dataset with only the selected variables\n",
    "df_score = df[df['variable'].isin(score_variables)]\n",
    "\n",
    "# Creating another dataset with the rest of the variables\n",
    "df_machine = df[~df['variable'].isin(score_variables)]\n",
    "\n",
    "df_score['date'] = df_score['time'].dt.date\n",
    "df_machine['date'] = df_machine['time'].dt.date\n",
    "\n",
    "# Displaying the first few rows of each dataset to verify\n",
    "print(\"Dataset with score variables:\")\n",
    "print(df_score.head())\n",
    "print(\"\\nDataset with the machine data variables:\")\n",
    "print(df_machine.head())\n"
   ]
  },
  {
   "attachments": {},
   "cell_type": "markdown",
   "metadata": {},
   "source": [
    "Doing a \"fake pivot\" with a triple key so does not have to mind the duplicates"
   ]
  },
  {
   "cell_type": "code",
   "execution_count": null,
   "metadata": {},
   "outputs": [],
   "source": [
    "df_score_piv = df_score.pivot_table(index=['index','id', 'date'], columns='variable', values='value', aggfunc='mean').reset_index()\n",
    "df_machine_piv = df_machine.pivot_table(index=['index','id', 'date'], columns='variable', values='value', aggfunc='sum').reset_index()\n",
    "df_score_piv.head(), df_machine_piv.head()\n",
    "df_score_piv\n"
   ]
  },
  {
   "cell_type": "code",
   "execution_count": null,
   "metadata": {},
   "outputs": [],
   "source": [
    "df_machine_piv\n"
   ]
  },
  {
   "attachments": {},
   "cell_type": "markdown",
   "metadata": {},
   "source": [
    "Aggregate after the pivot"
   ]
  },
  {
   "cell_type": "code",
   "execution_count": null,
   "metadata": {},
   "outputs": [],
   "source": [
    "df_score_piv_agg = df_score_piv.groupby(['id', 'date']).mean().reset_index()\n",
    "df_score_piv_agg\n"
   ]
  },
  {
   "cell_type": "code",
   "execution_count": null,
   "metadata": {},
   "outputs": [],
   "source": [
    "df_machine_piv_agg = df_machine_piv.groupby(['id', 'date']).sum().reset_index()\n",
    "df_machine_piv_agg"
   ]
  },
  {
   "cell_type": "code",
   "execution_count": null,
   "metadata": {},
   "outputs": [],
   "source": [
    "# Assuming df_score_aggregated and df_machine_aggregated are your two tables\n",
    "keys_score = set(df_score_piv_agg.apply(lambda row: (row['id'], row['date']), axis=1))\n",
    "keys_machine = set(df_machine_piv_agg.apply(lambda row: (row['id'], row['date']), axis=1))\n",
    "\n",
    "len(keys_score), len(keys_machine)\n"
   ]
  },
  {
   "cell_type": "code",
   "execution_count": null,
   "metadata": {},
   "outputs": [],
   "source": [
    "missing_in_score = keys_machine - keys_score\n",
    "missing_in_machine = keys_score - keys_machine\n",
    "\n",
    "print(\"Missing in df_score_aggregated:\", missing_in_score)\n",
    "print(\"Missing in df_machine_aggregated:\", missing_in_machine)\n"
   ]
  },
  {
   "cell_type": "code",
   "execution_count": null,
   "metadata": {},
   "outputs": [],
   "source": [
    "# Merging with an outer join\n",
    "df_merged = pd.merge(df_score_piv_agg, df_machine_piv_agg, on=['id', 'date'], how='outer', indicator=True)\n",
    "\n",
    "# Filtering to see which rows are present in one table but not the other\n",
    "missing_in_score_df = df_merged[df_merged['_merge'] == 'right_only']\n",
    "missing_in_machine_df = df_merged[df_merged['_merge'] == 'left_only']\n",
    "\n",
    "print(\"Rows missing in df_score_aggregated:\")\n",
    "print(len(missing_in_score_df))\n",
    "\n",
    "print(\"\\nRows missing #in df_machine_aggregated:\")\n",
    "print(len(missing_in_machine_df))\n"
   ]
  }
 ],
 "metadata": {
  "kernelspec": {
   "display_name": "venv",
   "language": "python",
   "name": "python3"
  },
  "language_info": {
   "codemirror_mode": {
    "name": "ipython",
    "version": 3
   },
   "file_extension": ".py",
   "mimetype": "text/x-python",
   "name": "python",
   "nbconvert_exporter": "python",
   "pygments_lexer": "ipython3",
   "version": "3.9.7"
  },
  "orig_nbformat": 4,
  "vscode": {
   "interpreter": {
    "hash": "1fc5637e3ed7126acd7dd2028bdbbd129c1d81b498282e5e8aaa91e63254f603"
   }
  }
 },
 "nbformat": 4,
 "nbformat_minor": 2
}
